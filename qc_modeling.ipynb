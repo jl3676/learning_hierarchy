{
 "cells": [
  {
   "cell_type": "markdown",
   "metadata": {},
   "source": [
    "# Imports"
   ]
  },
  {
   "cell_type": "code",
   "execution_count": 7,
   "metadata": {},
   "outputs": [
    {
     "name": "stdout",
     "output_type": "stream",
     "text": [
      "The autoreload extension is already loaded. To reload it, use:\n",
      "  %reload_ext autoreload\n"
     ]
    }
   ],
   "source": [
    "%load_ext autoreload\n",
    "%autoreload 2\n",
    "\n",
    "import numpy as np\n",
    "import matplotlib.pyplot as plt\n",
    "\n",
    "import pickle\n",
    "from multiprocessing import Pool\n",
    "\n",
    "import modeling\n",
    "import helpers\n",
    "import plotting\n",
    "import scienceplots\n",
    "plt.style.use(['science','no-latex'])\n",
    "# plt.style.use(['science','ieee','no-latex'])"
   ]
  },
  {
   "cell_type": "markdown",
   "metadata": {},
   "source": [
    "# Load data"
   ]
  },
  {
   "cell_type": "code",
   "execution_count": 3,
   "metadata": {},
   "outputs": [],
   "source": [
    "with open('data.pkl', 'rb') as file:\n",
    "    data_dict = pickle.load(file)\n",
    "    all_data = data_dict['data']\n",
    "    meta_data = data_dict['meta_data']\n",
    "\n",
    "best_params_all_backward = np.load('fitting_results/backward_params.npy')"
   ]
  },
  {
   "cell_type": "markdown",
   "metadata": {},
   "source": [
    "# Parameter recovery"
   ]
  },
  {
   "cell_type": "markdown",
   "metadata": {},
   "source": [
    "## V1-V1, Cluster 0, backward meta-learning model"
   ]
  },
  {
   "cell_type": "code",
   "execution_count": null,
   "metadata": {},
   "outputs": [],
   "source": [
    "this_model = 'option_model'\n",
    "structure = 'backward'\n",
    "meta_learning = True\n",
    "cluster = 0\n",
    "experiment = 'V1-V1'\n",
    "fitted_params = best_params_all_backward[(meta_data['Cluster']==cluster) & (meta_data['Experiment']==experiment)]\n",
    "num_subject = fitted_params.shape[0]\n",
    "niters = 1\n",
    "\n",
    "alpha_bounds = [1e-6, 1]\n",
    "beta_bounds = [1e-6, 10]\n",
    "concentration_bounds = [-2, 1]\n",
    "epsilon_bounds = [1e-6, 0.99]\n",
    "bounds = [alpha_bounds, beta_bounds, concentration_bounds, epsilon_bounds, epsilon_bounds] \n",
    "param_names = [\"alpha_2\", \"beta_2\", 'concentration_2', 'epsilon', 'prior']\n",
    "\n",
    "best_llh_all = np.zeros(num_subject)\n",
    "best_params_all = np.zeros((num_subject, len(param_names)))\n",
    "\n",
    "all_sim_data = {}\n",
    "\n",
    "if __name__ == \"__main__\":\n",
    "    inputs = []\n",
    "       \n",
    "    for i in range(num_subject):\n",
    "        alpha_2, beta_2, concentration_2, epsilon, prior = fitted_params[i]\n",
    "        sim_data = modeling.option_model(niters, 1, alpha_2, 5, beta_2, 0.2, concentration_2, epsilon, prior, experiment, structure, meta_learning=True)\n",
    "        all_sim_data = helpers.concatenate_data(sim_data, all_sim_data)\n",
    "        D = helpers.get_model_fit_data(sim_data, num_block=12)  \n",
    "        inputs.append((this_model, D, structure, i, bounds, meta_learning))\n",
    "\n",
    "    with Pool() as p:\n",
    "        results = p.map(modeling.parallel_worker, inputs)\n",
    "\n",
    "    for i, best_params, best_llh in results:\n",
    "        best_params_all[i, :], best_llh_all[i] = best_params, best_llh\n",
    "\n",
    "np.save(f'fitting_results/paramrec_{structure}_{experiment}_cluster{cluster}_params.npy', best_params_all)\n",
    "np.save(f'fitting_results/paramrec_{structure}_{experiment}_cluster{cluster}_llh.npy', best_llh_all)\n"
   ]
  },
  {
   "cell_type": "code",
   "execution_count": null,
   "metadata": {},
   "outputs": [],
   "source": [
    "plt.figure(figsize=(12,9))\n",
    "for p in range(len(bounds)):\n",
    "    ax = plt.subplot(2, 3, p+1)\n",
    "    plt.plot(fitted_params[:,p], best_params_all[:,p], '.')\n",
    "    plt.plot([bounds[p][0], bounds[p][1]], [bounds[p][0], bounds[p][1]])\n",
    "    plt.xlim(bounds[p])\n",
    "    plt.ylim(bounds[p])\n",
    "    plt.xlabel('True')\n",
    "    plt.ylabel('Recovered')\n",
    "    plt.title(param_names[p])\n",
    "    ax.set_box_aspect(1)\n",
    "\n",
    "plt.suptitle(f'Parameter recovery for {this_model}, Cluster {cluster}, {experiment}')\n",
    "plt.tight_layout()\n",
    "plt.show()"
   ]
  }
 ],
 "metadata": {
  "kernelspec": {
   "display_name": "ml",
   "language": "python",
   "name": "python3"
  },
  "language_info": {
   "codemirror_mode": {
    "name": "ipython",
    "version": 3
   },
   "file_extension": ".py",
   "mimetype": "text/x-python",
   "name": "python",
   "nbconvert_exporter": "python",
   "pygments_lexer": "ipython3",
   "version": "3.8.5"
  }
 },
 "nbformat": 4,
 "nbformat_minor": 2
}
