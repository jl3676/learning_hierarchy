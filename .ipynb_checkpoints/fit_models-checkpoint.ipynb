{
 "cells": [
  {
   "cell_type": "markdown",
   "metadata": {},
   "source": [
    "## Imports"
   ]
  },
  {
   "cell_type": "code",
   "execution_count": null,
   "metadata": {},
   "outputs": [],
   "source": [
    "%load_ext autoreload\n",
    "%autoreload 2\n",
    "\n",
    "import numpy as np\n",
    "from scipy import stats\n",
    "import matplotlib.pyplot as plt\n",
    "import seaborn as sns\n",
    "\n",
    "import pickle\n",
    "from multiprocessing import Pool\n",
    "\n",
    "import modeling\n",
    "import helpers\n",
    "import scienceplots\n",
    "plt.style.use(['science','no-latex'])\n",
    "# plt.style.use(['science','ieee','no-latex'])"
   ]
  },
  {
   "cell_type": "markdown",
   "metadata": {},
   "source": [
    "## Load data"
   ]
  },
  {
   "cell_type": "code",
   "execution_count": 25,
   "metadata": {},
   "outputs": [],
   "source": [
    "with open('data.pkl', 'rb') as file:\n",
    "    data_dict = pickle.load(file)\n",
    "    all_data = data_dict['data']\n",
    "    meta_data = data_dict['meta_data']"
   ]
  },
  {
   "cell_type": "markdown",
   "metadata": {},
   "source": [
    "## Fit models"
   ]
  },
  {
   "cell_type": "code",
   "execution_count": 4,
   "metadata": {},
   "outputs": [
    {
     "ename": "FileNotFoundError",
     "evalue": "[Errno 2] No such file or directory: 'fitting_results/top_down_params.npy'",
     "output_type": "error",
     "traceback": [
      "\u001b[0;31m---------------------------------------------------------------------------\u001b[0m",
      "\u001b[0;31mFileNotFoundError\u001b[0m                         Traceback (most recent call last)",
      "Cell \u001b[0;32mIn[4], line 29\u001b[0m\n\u001b[1;32m     26\u001b[0m     \u001b[38;5;28;01mfor\u001b[39;00m i, best_params, best_llh \u001b[38;5;129;01min\u001b[39;00m results:\n\u001b[1;32m     27\u001b[0m         best_params_all[i, :], best_llh_all[i] \u001b[38;5;241m=\u001b[39m best_params, best_llh\n\u001b[0;32m---> 29\u001b[0m \u001b[43mnp\u001b[49m\u001b[38;5;241;43m.\u001b[39;49m\u001b[43msave\u001b[49m\u001b[43m(\u001b[49m\u001b[38;5;124;43m'\u001b[39;49m\u001b[38;5;124;43mfitting_results/\u001b[39;49m\u001b[38;5;124;43m'\u001b[39;49m\u001b[38;5;241;43m+\u001b[39;49m\u001b[43mstructure\u001b[49m\u001b[38;5;241;43m+\u001b[39;49m\u001b[38;5;124;43m'\u001b[39;49m\u001b[38;5;124;43m_params.npy\u001b[39;49m\u001b[38;5;124;43m'\u001b[39;49m\u001b[43m,\u001b[49m\u001b[43m \u001b[49m\u001b[43mbest_params_all\u001b[49m\u001b[43m)\u001b[49m\n\u001b[1;32m     30\u001b[0m np\u001b[38;5;241m.\u001b[39msave(\u001b[38;5;124m'\u001b[39m\u001b[38;5;124mfitting_results/\u001b[39m\u001b[38;5;124m'\u001b[39m\u001b[38;5;241m+\u001b[39mstructure\u001b[38;5;241m+\u001b[39m\u001b[38;5;124m'\u001b[39m\u001b[38;5;124m_llh.npy\u001b[39m\u001b[38;5;124m'\u001b[39m, best_llh_all)\n",
      "File \u001b[0;32m<__array_function__ internals>:200\u001b[0m, in \u001b[0;36msave\u001b[0;34m(*args, **kwargs)\u001b[0m\n",
      "File \u001b[0;32m~/anaconda3/envs/OT/lib/python3.8/site-packages/numpy/lib/npyio.py:518\u001b[0m, in \u001b[0;36msave\u001b[0;34m(file, arr, allow_pickle, fix_imports)\u001b[0m\n\u001b[1;32m    516\u001b[0m     \u001b[38;5;28;01mif\u001b[39;00m \u001b[38;5;129;01mnot\u001b[39;00m file\u001b[38;5;241m.\u001b[39mendswith(\u001b[38;5;124m'\u001b[39m\u001b[38;5;124m.npy\u001b[39m\u001b[38;5;124m'\u001b[39m):\n\u001b[1;32m    517\u001b[0m         file \u001b[38;5;241m=\u001b[39m file \u001b[38;5;241m+\u001b[39m \u001b[38;5;124m'\u001b[39m\u001b[38;5;124m.npy\u001b[39m\u001b[38;5;124m'\u001b[39m\n\u001b[0;32m--> 518\u001b[0m     file_ctx \u001b[38;5;241m=\u001b[39m \u001b[38;5;28;43mopen\u001b[39;49m\u001b[43m(\u001b[49m\u001b[43mfile\u001b[49m\u001b[43m,\u001b[49m\u001b[43m \u001b[49m\u001b[38;5;124;43m\"\u001b[39;49m\u001b[38;5;124;43mwb\u001b[39;49m\u001b[38;5;124;43m\"\u001b[39;49m\u001b[43m)\u001b[49m\n\u001b[1;32m    520\u001b[0m \u001b[38;5;28;01mwith\u001b[39;00m file_ctx \u001b[38;5;28;01mas\u001b[39;00m fid:\n\u001b[1;32m    521\u001b[0m     arr \u001b[38;5;241m=\u001b[39m np\u001b[38;5;241m.\u001b[39masanyarray(arr)\n",
      "\u001b[0;31mFileNotFoundError\u001b[0m: [Errno 2] No such file or directory: 'fitting_results/top_down_params.npy'"
     ]
    }
   ],
   "source": [
    "this_model = 'option_model'\n",
    "structure = 'top_down'\n",
    "num_subject = all_data['tr'].shape[0]\n",
    "\n",
    "alpha_bounds = [1e-6, 1]\n",
    "beta_bounds = [1e-6, 10]\n",
    "concentration_bounds = [1e-6, 50]\n",
    "epsilon_bounds = [1e-6, 0.998]\n",
    "bounds = [alpha_bounds, beta_bounds, concentration_bounds, epsilon_bounds, epsilon_bounds] \n",
    "param_names = [\"alpha_2\", \"beta_2\", 'concentration_2', 'epsilon', 'prior']\n",
    "\n",
    "best_llh_all = np.zeros(num_subject)\n",
    "best_params_all = np.zeros((num_subject, len(param_names)))\n",
    "\n",
    "D = helpers.get_model_fit_data(all_data, num_block=12)\n",
    "\n",
    "if __name__ == \"__main__\":\n",
    "    inputs = []\n",
    "       \n",
    "    for i in range(num_subject):\n",
    "        inputs.append((this_model, D[D[:,0]==i,:], structure, i, bounds))\n",
    "\n",
    "    with Pool() as p:\n",
    "        results = p.map(modeling.parallel_worker, inputs)\n",
    "\n",
    "    for i, best_params, best_llh in results:\n",
    "        best_params_all[i, :], best_llh_all[i] = best_params, best_llh\n",
    "\n",
    "np.save('fitting_results/'+structure+'_params.npy', best_params_all)\n",
    "np.save('fitting_results/'+structure+'_llh.npy', best_llh_all)\n"
   ]
  },
  {
   "cell_type": "code",
   "execution_count": 5,
   "metadata": {},
   "outputs": [],
   "source": [
    "np.save('fitting_results/'+structure+'_params.npy', best_params_all)\n",
    "np.save('fitting_results/'+structure+'_llh.npy', best_llh_all)"
   ]
  },
  {
   "cell_type": "code",
   "execution_count": 6,
   "metadata": {},
   "outputs": [],
   "source": [
    "best_params_all = np.load('fitting_results/'+structure+'_params.npy')\n",
    "best_llh_all = np.load('fitting_results/'+structure+'_llh.npy')"
   ]
  },
  {
   "cell_type": "code",
   "execution_count": 26,
   "metadata": {},
   "outputs": [],
   "source": [
    "niters_sim = 5\n",
    "condition = 'V1-V2'\n",
    "cluster = 0\n",
    "subject_inds = (meta_data['Condition'] == condition) & (meta_data['Cluster'] == cluster)\n",
    "if __name__ == \"__main__\":\n",
    "    inputs = []\n",
    "    for i in range(best_params_all[subject_inds].shape[0]):\n",
    "        alpha_2, beta_2, concentration_2, epsilon, prior = best_params_all[subject_inds][i,:]\n",
    "        inputs.append((this_model, i, niters_sim, 1, alpha_2, 10, beta_2, 10, concentration_2, epsilon, prior, condition, structure))\n",
    "        \n",
    "    with Pool() as p:\n",
    "        results = p.map(modeling.parallel_simulator, inputs)\n",
    "\n",
    "    all_data_sim = {}\n",
    "    for _, this_data in results:\n",
    "        all_data_sim = helpers.concatenate_data(this_data, all_data_sim)"
   ]
  },
  {
   "cell_type": "code",
   "execution_count": 27,
   "metadata": {},
   "outputs": [
    {
     "name": "stderr",
     "output_type": "stream",
     "text": [
      "/home/exouser/Desktop/jingjing/learning_hierarchy/helpers.py:916: RuntimeWarning: Mean of empty slice\n",
      "  mean_population_counter1 = np.hstack((mean_population_counter1_12, np.nanmean(data_counter1[:,:,start_trial:int(start_trial+trials_to_probe)],axis=2)))\n",
      "/home/exouser/Desktop/jingjing/learning_hierarchy/helpers.py:917: RuntimeWarning: Mean of empty slice\n",
      "  mean_population_counter2 = np.hstack((mean_population_counter2_12, np.nanmean(data_counter2[:,:,start_trial:int(start_trial+trials_to_probe)],axis=2)))\n"
     ]
    },
    {
     "data": {
      "image/png": "[encoded data removed]",
      "text/plain": [
       "<Figure size 350x262.5 with 1 Axes>"
      ]
     },
     "metadata": {},
     "output_type": "display_data"
    }
   ],
   "source": [
    "trials_to_probe = 10\n",
    "\n",
    "this_data = helpers.slice_data(all_data, meta_data, condition, [1,2], 0)\n",
    "num_subject = this_data['tr'].shape[0]\n",
    "\n",
    "stage2_info_ca1 = helpers.extract_stage2_info(this_data,experiment=condition)\n",
    "\n",
    "mean_population_counter1_ca1, mean_population_counter2_ca1 = helpers.calc_mean(this_data, start_trial=0, trials_to_probe=trials_to_probe)\n",
    "\n",
    "mean_counter1_ca1 = np.mean(mean_population_counter1_ca1,axis=0)\n",
    "mean_counter2_ca1 = np.nanmean(mean_population_counter2_ca1,axis=0)\n",
    "\n",
    "se_counter1_ca1 = stats.sem(mean_population_counter1_ca1,axis=0,nan_policy='omit')\n",
    "se_counter2_ca1 = stats.sem(mean_population_counter2_ca1,axis=0,nan_policy='omit')\n",
    "\n",
    "stage2_info_ca1_sim = helpers.extract_stage2_info(all_data_sim,experiment=condition)\n",
    "\n",
    "mean_population_counter1_ca1_sim, mean_population_counter2_ca1_sim = helpers.calc_mean(all_data_sim, start_trial=0, trials_to_probe=trials_to_probe)\n",
    "\n",
    "mean_counter1_ca1_sim = np.mean(mean_population_counter1_ca1_sim,axis=0)\n",
    "mean_counter2_ca1_sim = np.mean(mean_population_counter2_ca1_sim,axis=0)\n",
    "\n",
    "se_counter1_ca1_sim = stats.sem(mean_population_counter1_ca1_sim,axis=0,nan_policy='omit')\n",
    "se_counter2_ca1_sim = stats.sem(mean_population_counter2_ca1_sim,axis=0,nan_policy='omit')\n",
    "\n",
    "blocks = range(1,13)\n",
    "plt.fill_between([6.5,6.5,7.5],[1,3,3],color='lightcoral',alpha=0.15)\n",
    "plt.fill_between([10.5,10.5,11.5],[1,3,3],color='lightcoral',alpha=0.15)\n",
    "plt.plot(blocks,np.ones(12)*2.5,'--',color='gray',linewidth=2,alpha=0.6,label='Chance')\n",
    "plt.errorbar(blocks,mean_counter2_ca1,se_counter2_ca1,fmt='-',capsize=4,color='green',alpha=0.75,label='Gen')\n",
    "plt.plot(blocks,mean_counter2_ca1_sim,'--',color='green',alpha=0.75,label='Rec')\n",
    "plt.ylim([1,2.7])\n",
    "plt.ylabel('Number of key presses')\n",
    "plt.xlabel('Block')\n",
    "plt.title(condition+', trials 1-10 (n=' + str(num_subject) + ')')\n",
    "plt.legend()\n",
    "plt.show()"
   ]
  },
  {
   "cell_type": "code",
   "execution_count": 19,
   "metadata": {},
   "outputs": [
    {
     "data": {
      "text/plain": [
       "261"
      ]
     },
     "execution_count": 19,
     "metadata": {},
     "output_type": "execute_result"
    }
   ],
   "source": [
    "inds = (meta_data['Condition'] == condition) #& (meta_data['Experiment'].isin([1,2])) & (meta_data['Cluster'] == cluster)\n",
    "np.sum(inds)"
   ]
  }
 ],
 "metadata": {
  "kernelspec": {
   "display_name": "Python 3 (ipykernel)",
   "language": "python",
   "name": "python3"
  },
  "language_info": {
   "codemirror_mode": {
    "name": "ipython",
    "version": 3
   },
   "file_extension": ".py",
   "mimetype": "text/x-python",
   "name": "python",
   "nbconvert_exporter": "python",
   "pygments_lexer": "ipython3",
   "version": "3.8.18"
  }
 },
 "nbformat": 4,
 "nbformat_minor": 2
}
