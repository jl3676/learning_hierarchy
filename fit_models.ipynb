{
 "cells": [
  {
   "cell_type": "markdown",
   "metadata": {},
   "source": [
    "## Imports"
   ]
  },
  {
   "cell_type": "code",
   "execution_count": null,
   "metadata": {},
   "outputs": [],
   "source": [
    "%load_ext autoreload\n",
    "%autoreload 2\n",
    "\n",
    "import numpy as np\n",
    "from scipy import stats\n",
    "import matplotlib.pyplot as plt\n",
    "import seaborn as sns\n",
    "\n",
    "import pickle\n",
    "from multiprocessing import Pool\n",
    "\n",
    "import modeling\n",
    "import helpers\n",
    "import scienceplots\n",
    "plt.style.use(['science','no-latex'])\n",
    "# plt.style.use(['science','ieee','no-latex'])"
   ]
  },
  {
   "cell_type": "markdown",
   "metadata": {},
   "source": [
    "## Load data"
   ]
  },
  {
   "cell_type": "code",
   "execution_count": 25,
   "metadata": {},
   "outputs": [],
   "source": [
    "with open('data.pkl', 'rb') as file:\n",
    "    data_dict = pickle.load(file)\n",
    "    all_data = data_dict['data']\n",
    "    meta_data = data_dict['meta_data']"
   ]
  },
  {
   "cell_type": "markdown",
   "metadata": {},
   "source": [
    "## Fit models"
   ]
  },
  {
   "cell_type": "code",
   "execution_count": 28,
   "metadata": {},
   "outputs": [],
   "source": [
    "this_model = 'option_model'\n",
    "structure = 'top_down'\n",
    "num_subject = all_data['tr'].shape[0]\n",
    "\n",
    "alpha_bounds = [1e-6, 1]\n",
    "beta_bounds = [1e-6, 10]\n",
    "concentration_bounds = [1e-6, 50]\n",
    "epsilon_bounds = [1e-6, 0.998]\n",
    "bounds = [alpha_bounds, beta_bounds, concentration_bounds, epsilon_bounds, epsilon_bounds] \n",
    "param_names = [\"alpha_2\", \"beta_2\", 'concentration_2', 'epsilon', 'prior']\n",
    "\n",
    "best_llh_all = np.zeros(num_subject)\n",
    "best_params_all = np.zeros((num_subject, len(param_names)))\n",
    "\n",
    "D = helpers.get_model_fit_data(all_data, num_block=12)\n",
    "\n",
    "if __name__ == \"__main__\":\n",
    "    inputs = []\n",
    "       \n",
    "    for i in range(num_subject):\n",
    "        inputs.append((this_model, D[D[:,0]==i,:], structure, i, bounds))\n",
    "\n",
    "    with Pool() as p:\n",
    "        results = p.map(modeling.parallel_worker, inputs)\n",
    "\n",
    "    for i, best_params, best_llh in results:\n",
    "        best_params_all[i, :], best_llh_all[i] = best_params, best_llh\n",
    "\n",
    "np.save('fitting_results/'+structure+'_params.npy', best_params_all)\n",
    "np.save('fitting_results/'+structure+'_llh.npy', best_llh_all)"
   ]
  },
  {
   "cell_type": "code",
   "execution_count": 32,
   "metadata": {},
   "outputs": [],
   "source": [
    "this_model = 'option_model'\n",
    "structure = 'bottom_up'\n",
    "num_subject = all_data['tr'].shape[0]\n",
    "\n",
    "alpha_bounds = [1e-6, 1]\n",
    "beta_bounds = [1e-6, 10]\n",
    "concentration_bounds = [1e-6, 50]\n",
    "epsilon_bounds = [1e-6, 0.998]\n",
    "bounds = [alpha_bounds, beta_bounds, concentration_bounds, epsilon_bounds, epsilon_bounds] \n",
    "param_names = [\"alpha_2\", \"beta_2\", 'concentration_2', 'epsilon', 'prior']\n",
    "\n",
    "best_llh_all = np.zeros(num_subject)\n",
    "best_params_all = np.zeros((num_subject, len(param_names)))\n",
    "\n",
    "D = helpers.get_model_fit_data(all_data, num_block=12)\n",
    "\n",
    "if __name__ == \"__main__\":\n",
    "    inputs = []\n",
    "       \n",
    "    for i in range(num_subject):\n",
    "        inputs.append((this_model, D[D[:,0]==i,:], structure, i, bounds))\n",
    "\n",
    "    with Pool() as p:\n",
    "        results = p.map(modeling.parallel_worker, inputs)\n",
    "\n",
    "    for i, best_params, best_llh in results:\n",
    "        best_params_all[i, :], best_llh_all[i] = best_params, best_llh\n",
    "\n",
    "np.save('fitting_results/'+structure+'_params.npy', best_params_all)\n",
    "np.save('fitting_results/'+structure+'_llh.npy', best_llh_all)\n"
   ]
  },
  {
   "cell_type": "code",
   "execution_count": 33,
   "metadata": {},
   "outputs": [],
   "source": [
    "best_params_all = np.load('fitting_results/'+structure+'_params.npy')\n",
    "best_llh_all = np.load('fitting_results/'+structure+'_llh.npy')"
   ]
  },
  {
   "cell_type": "code",
   "execution_count": 34,
   "metadata": {},
   "outputs": [],
   "source": [
    "niters_sim = 5\n",
    "condition = 'V1-V2'\n",
    "cluster = 0\n",
    "subject_inds = (meta_data['Condition'] == condition) & (meta_data['Cluster'] == cluster)\n",
    "if __name__ == \"__main__\":\n",
    "    inputs = []\n",
    "    for i in range(best_params_all[subject_inds].shape[0]):\n",
    "        alpha_2, beta_2, concentration_2, epsilon, prior = best_params_all[subject_inds][i,:]\n",
    "        inputs.append((this_model, i, niters_sim, 1, alpha_2, 10, beta_2, 10, concentration_2, epsilon, prior, condition, structure))\n",
    "        \n",
    "    with Pool() as p:\n",
    "        results = p.map(modeling.parallel_simulator, inputs)\n",
    "\n",
    "    all_data_sim = {}\n",
    "    for _, this_data in results:\n",
    "        all_data_sim = helpers.concatenate_data(this_data, all_data_sim)"
   ]
  },
  {
   "cell_type": "code",
   "execution_count": 35,
   "metadata": {},
   "outputs": [
    {
     "data": {
      "image/png": "[encoded data removed]",
      "text/plain": [
       "<Figure size 350x262.5 with 1 Axes>"
      ]
     },
     "metadata": {},
     "output_type": "display_data"
    }
   ],
   "source": [
    "trials_to_probe = 10\n",
    "\n",
    "this_data = helpers.slice_data(all_data, meta_data, condition, [1,2], 0)\n",
    "num_subject = this_data['tr'].shape[0]\n",
    "\n",
    "stage2_info_ca1 = helpers.extract_stage2_info(this_data,experiment=condition)\n",
    "\n",
    "mean_population_counter1_ca1, mean_population_counter2_ca1 = helpers.calc_mean(this_data, start_trial=0, trials_to_probe=trials_to_probe)\n",
    "\n",
    "mean_counter1_ca1 = np.mean(mean_population_counter1_ca1,axis=0)\n",
    "mean_counter2_ca1 = np.nanmean(mean_population_counter2_ca1,axis=0)\n",
    "\n",
    "se_counter1_ca1 = stats.sem(mean_population_counter1_ca1,axis=0,nan_policy='omit')\n",
    "se_counter2_ca1 = stats.sem(mean_population_counter2_ca1,axis=0,nan_policy='omit')\n",
    "\n",
    "stage2_info_ca1_sim = helpers.extract_stage2_info(all_data_sim,experiment=condition)\n",
    "\n",
    "mean_population_counter1_ca1_sim, mean_population_counter2_ca1_sim = helpers.calc_mean(all_data_sim, start_trial=0, trials_to_probe=trials_to_probe)\n",
    "\n",
    "mean_counter1_ca1_sim = np.mean(mean_population_counter1_ca1_sim,axis=0)\n",
    "mean_counter2_ca1_sim = np.mean(mean_population_counter2_ca1_sim,axis=0)\n",
    "\n",
    "se_counter1_ca1_sim = stats.sem(mean_population_counter1_ca1_sim,axis=0,nan_policy='omit')\n",
    "se_counter2_ca1_sim = stats.sem(mean_population_counter2_ca1_sim,axis=0,nan_policy='omit')\n",
    "\n",
    "blocks = range(1,13)\n",
    "plt.fill_between([6.5,6.5,7.5],[1,3,3],color='lightcoral',alpha=0.15)\n",
    "plt.fill_between([10.5,10.5,11.5],[1,3,3],color='lightcoral',alpha=0.15)\n",
    "plt.plot(blocks,np.ones(12)*2.5,'--',color='gray',linewidth=2,alpha=0.6,label='Chance')\n",
    "plt.errorbar(blocks,mean_counter2_ca1,se_counter2_ca1,fmt='-',capsize=4,color='green',alpha=0.75,label='Gen')\n",
    "plt.plot(blocks,mean_counter2_ca1_sim,'--',color='green',alpha=0.75,label='Rec')\n",
    "plt.ylim([1,2.7])\n",
    "plt.ylabel('Number of key presses')\n",
    "plt.xlabel('Block')\n",
    "plt.title(condition+', trials 1-10 (n=' + str(num_subject) + ')')\n",
    "plt.legend()\n",
    "plt.show()"
   ]
  },
  {
   "cell_type": "code",
   "execution_count": 19,
   "metadata": {},
   "outputs": [
    {
     "data": {
      "text/plain": [
       "261"
      ]
     },
     "execution_count": 19,
     "metadata": {},
     "output_type": "execute_result"
    }
   ],
   "source": [
    "inds = (meta_data['Condition'] == condition) #& (meta_data['Experiment'].isin([1,2])) & (meta_data['Cluster'] == cluster)\n",
    "np.sum(inds)"
   ]
  }
 ],
 "metadata": {
  "kernelspec": {
   "display_name": "Python 3 (ipykernel)",
   "language": "python",
   "name": "python3"
  },
  "language_info": {
   "codemirror_mode": {
    "name": "ipython",
    "version": 3
   },
   "file_extension": ".py",
   "mimetype": "text/x-python",
   "name": "python",
   "nbconvert_exporter": "python",
   "pygments_lexer": "ipython3",
   "version": "3.8.18"
  }
 },
 "nbformat": 4,
 "nbformat_minor": 2
}
